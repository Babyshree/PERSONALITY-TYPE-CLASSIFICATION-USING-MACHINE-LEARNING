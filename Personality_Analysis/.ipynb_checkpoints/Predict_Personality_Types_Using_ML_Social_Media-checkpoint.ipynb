{
 "cells": [
  {
   "cell_type": "markdown",
   "id": "9fd34638",
   "metadata": {},
   "source": [
    "# IMPORTING LIBRARIES"
   ]
  },
  {
   "cell_type": "code",
   "execution_count": 1,
   "id": "35cf2b84",
   "metadata": {},
   "outputs": [],
   "source": [
    "import re\n",
    "import numpy as np\n",
    "import collections\n",
    "from collections import Counter\n",
    "import pandas as pd\n",
    "import seaborn as sns\n",
    "import matplotlib.pyplot as plt\n",
    "from sklearn.linear_model import LogisticRegression\n",
    "from sklearn.ensemble import RandomForestClassifier\n",
    "from sklearn.linear_model import Perceptron\n",
    "from sklearn.linear_model import SGDClassifier\n",
    "from sklearn.model_selection import train_test_split\n",
    "from sklearn.neighbors import KNeighborsClassifier\n",
    "from sklearn.linear_model import LinearRegression\n",
    "from sklearn.model_selection import cross_val_score\n",
    "from sklearn.metrics import accuracy_score\n",
    "from sklearn.preprocessing import MinMaxScaler\n",
    "from sklearn.multiclass import OneVsRestClassifier\n",
    "from sklearn.linear_model import LogisticRegression\n",
    "from sklearn.ensemble import RandomForestClassifier\n",
    "from sklearn.svm import SVC\n",
    "from sklearn.cluster import KMeans\n",
    "\n",
    "import pickle"
   ]
  },
  {
   "cell_type": "markdown",
   "id": "81b989b1",
   "metadata": {},
   "source": [
    "# LOAD DATASET"
   ]
  },
  {
   "cell_type": "code",
   "execution_count": null,
   "id": "e1a233fb",
   "metadata": {},
   "outputs": [],
   "source": [
    "df = pd.read_csv(r\"C:\\Users\\jbaby\\documents\\DLK\\personality\\mbti_1.csv\")\n"
   ]
  },
  {
   "cell_type": "markdown",
   "id": "e33f83ef",
   "metadata": {},
   "source": [
    "# DATA - PREPROCESSING"
   ]
  },
  {
   "cell_type": "code",
   "execution_count": null,
   "id": "9b571414",
   "metadata": {},
   "outputs": [],
   "source": [
    "df.head()"
   ]
  },
  {
   "cell_type": "code",
   "execution_count": null,
   "id": "b45a055d",
   "metadata": {},
   "outputs": [],
   "source": [
    "df.info()"
   ]
  },
  {
   "cell_type": "code",
   "execution_count": null,
   "id": "833310dc",
   "metadata": {
    "scrolled": true
   },
   "outputs": [],
   "source": [
    "df.shape"
   ]
  },
  {
   "cell_type": "code",
   "execution_count": null,
   "id": "d2af31bc",
   "metadata": {},
   "outputs": [],
   "source": [
    "df.describe()"
   ]
  },
  {
   "cell_type": "code",
   "execution_count": null,
   "id": "e1ddc83a",
   "metadata": {},
   "outputs": [],
   "source": [
    "df['type'].value_counts()"
   ]
  },
  {
   "cell_type": "markdown",
   "id": "f04859c0",
   "metadata": {},
   "source": [
    "# EXTRACTING FEATURES "
   ]
  },
  {
   "cell_type": "code",
   "execution_count": null,
   "id": "a1b95c50",
   "metadata": {
    "scrolled": false
   },
   "outputs": [],
   "source": [
    "df['words_per_comment'] = df['posts'].apply(lambda x: len(x.split())/50)\n",
    "df['http_per_comment'] = df['posts'].apply(lambda x: x.count('http')/50)\n",
    "df['music_per_comment'] = df['posts'].apply(lambda x: x.count('music')/50)\n",
    "df['question_per_comment'] = df['posts'].apply(lambda x: x.count('?')/50)\n",
    "df['img_per_comment'] = df['posts'].apply(lambda x: x.count('jpg')/50)\n",
    "df['excl_per_comment'] = df['posts'].apply(lambda x: x.count('!')/50)\n",
    "df['ellipsis_per_comment'] = df['posts'].apply(lambda x: x.count('...')/50)\n",
    "\n",
    "df.head()"
   ]
  },
  {
   "cell_type": "code",
   "execution_count": null,
   "id": "dff8ceef",
   "metadata": {
    "scrolled": true
   },
   "outputs": [],
   "source": [
    "df.dtypes"
   ]
  },
  {
   "cell_type": "code",
   "execution_count": null,
   "id": "5e0cc0d0",
   "metadata": {},
   "outputs": [],
   "source": [
    "df.columns"
   ]
  },
  {
   "cell_type": "markdown",
   "id": "bacce3c1",
   "metadata": {},
   "source": [
    "# PERSONALITY TYPE \n"
   ]
  },
  {
   "cell_type": "markdown",
   "id": "d682ccb0",
   "metadata": {},
   "source": [
    "<span style=\"color: orange;font-size: 20px;\">Personality type across 4 axis:\n",
    "</span>\n",
    "\n",
    "Introversion (I) – Extroversion (E)\n",
    "\n",
    "Intuition (N) – Sensing (S)\n",
    "\n",
    "Thinking (T) – Feeling (F)\n",
    "\n",
    "Judging (J) – Perceiving (P)\n"
   ]
  },
  {
   "cell_type": "code",
   "execution_count": null,
   "id": "fca28eaf",
   "metadata": {
    "scrolled": false
   },
   "outputs": [],
   "source": [
    "map1 = {\"I\": 0, \"E\": 1}\n",
    "map2 = {\"N\": 0, \"S\": 1}\n",
    "map3 = {\"T\": 0, \"F\": 1}\n",
    "map4 = {\"J\": 0, \"P\": 1}\n",
    "df['I-E'] = df['type'].astype(str).str[0]\n",
    "df['I-E'] = df['I-E'].map(map1)\n",
    "df['N-S'] = df['type'].astype(str).str[1]\n",
    "df['N-S'] = df['N-S'].map(map2)\n",
    "df['T-F'] = df['type'].astype(str).str[2]\n",
    "df['T-F'] = df['T-F'].map(map3)\n",
    "df['J-P'] = df['type'].astype(str).str[3]\n",
    "df['J-P'] = df['J-P'].map(map4)\n",
    "df.head()"
   ]
  },
  {
   "cell_type": "markdown",
   "id": "e61e3d04",
   "metadata": {},
   "source": [
    "# VISUALIZATION"
   ]
  },
  {
   "cell_type": "code",
   "execution_count": null,
   "id": "3f5fad1f",
   "metadata": {},
   "outputs": [],
   "source": [
    "plt.figure(figsize=(15,10))\n",
    "sns.violinplot(x='type', y='words_per_comment', data=df, inner=None, color='lightgray')\n",
    "sns.stripplot(x='type', y='words_per_comment', data=df, size=4, jitter=True)\n",
    "plt.ylabel('Words per comment')\n",
    "plt.show()"
   ]
  },
  {
   "cell_type": "code",
   "execution_count": null,
   "id": "2a67752e",
   "metadata": {
    "scrolled": true
   },
   "outputs": [],
   "source": [
    "plt.figure(figsize=(15,10))\n",
    "sns.jointplot(x='words_per_comment', y='ellipsis_per_comment', data=df, kind='kde')\n"
   ]
  },
  {
   "cell_type": "code",
   "execution_count": null,
   "id": "4a117a5a",
   "metadata": {},
   "outputs": [],
   "source": [
    "i = df['type'].unique()\n",
    "k = 0\n",
    "for m in range(0,2):\n",
    "    for n in range(0,6):\n",
    "        df_2 = df[df['type'] == i[k]]\n",
    "        sns.jointplot(x='words_per_comment', y='ellipsis_per_comment', data=df_2, kind=\"hex\")\n",
    "        plt.title(i[k])\n",
    "        k+=1"
   ]
  },
  {
   "cell_type": "code",
   "execution_count": null,
   "id": "3b41e290",
   "metadata": {
    "scrolled": true
   },
   "outputs": [],
   "source": [
    "i = df['type'].unique()\n",
    "k = 0\n",
    "TypeArray = []\n",
    "PearArray=[]\n",
    "for m in range(0,2):\n",
    "    for n in range(0,6):\n",
    "        df_2 = df[df['type'] == i[k]]\n",
    "        pearsoncoef1=np.corrcoef(x=df_2['words_per_comment'], y=df_2['ellipsis_per_comment'])\n",
    "        pear=pearsoncoef1[1][0]\n",
    "        TypeArray.append(i[k])\n",
    "        PearArray.append(pear)\n",
    "        k+=1\n",
    "\n",
    "\n",
    "TypeArray = [x for _,x in sorted(zip(PearArray,TypeArray))]\n",
    "PearArray = sorted(PearArray, reverse=True)\n",
    "plt.scatter(TypeArray, PearArray)"
   ]
  },
  {
   "cell_type": "code",
   "execution_count": null,
   "id": "c71814e8",
   "metadata": {
    "scrolled": true
   },
   "outputs": [],
   "source": [
    "print(i)"
   ]
  },
  {
   "cell_type": "code",
   "execution_count": null,
   "id": "944ad6ae",
   "metadata": {},
   "outputs": [],
   "source": [
    "words_per_comment_values = df['words_per_comment']\n",
    "\n",
    "# Plot a histogram\n",
    "plt.hist(words_per_comment_values, bins=20, edgecolor='black')\n",
    "plt.title('Distribution of Words per Comment')\n",
    "plt.xlabel('Words per Comment')\n",
    "plt.ylabel('Frequency')\n",
    "plt.show()"
   ]
  },
  {
   "cell_type": "markdown",
   "id": "916cfc42",
   "metadata": {},
   "source": [
    "# SPLITING DATASET "
   ]
  },
  {
   "cell_type": "code",
   "execution_count": null,
   "id": "04a1534d",
   "metadata": {},
   "outputs": [],
   "source": [
    "X = df.drop(['type','posts','I-E','N-S','T-F','J-P'], axis=1).values\n",
    "y = df['type'].values"
   ]
  },
  {
   "cell_type": "code",
   "execution_count": null,
   "id": "43178539",
   "metadata": {},
   "outputs": [],
   "source": [
    "X_train,X_test,y_train,y_test=train_test_split(X,y,test_size = 0.1, random_state=5)"
   ]
  },
  {
   "cell_type": "markdown",
   "id": "529d9a06",
   "metadata": {},
   "source": [
    "# MODEL IMPLEMENTATION"
   ]
  },
  {
   "cell_type": "code",
   "execution_count": null,
   "id": "0beb73a1",
   "metadata": {},
   "outputs": [],
   "source": [
    "#Stochastic Gradient Descent (SGD)\n",
    "sgd = SGDClassifier(max_iter=5, tol=None)\n",
    "sgd.fit(X_train, y_train)\n",
    "Y_pred = sgd.predict(X_test)\n",
    "sgd.score(X_train, y_train)\n",
    "acc_sgd = round(sgd.score(X_train, y_train) * 100, 2)\n",
    "print(round(acc_sgd,2,), \"%\")"
   ]
  },
  {
   "cell_type": "code",
   "execution_count": null,
   "id": "f8fce5fe",
   "metadata": {},
   "outputs": [],
   "source": [
    "# Random Forest Classifier\n",
    "random_forest = RandomForestClassifier(n_estimators=100)\n",
    "random_forest.fit(X_train, y_train)\n",
    "\n",
    "Y_prediction = random_forest.predict(X_test)\n",
    "\n",
    "random_forest.score(X_train, y_train)\n",
    "acc_random_forest = round(random_forest.score(X_train, y_train) * 100, 2)\n",
    "print(round(acc_random_forest,2,), \"%\")"
   ]
  },
  {
   "cell_type": "code",
   "execution_count": null,
   "id": "24c6478a",
   "metadata": {},
   "outputs": [],
   "source": [
    "# Logistic Regression\n",
    "logreg = LogisticRegression()\n",
    "logreg.fit(X_train, y_train)\n",
    "\n",
    "Y_pred = logreg.predict(X_test)\n",
    "\n",
    "acc_log = round(logreg.score(X_train, y_train) * 100, 2)\n",
    "print(round(acc_log,2,), \"%\")"
   ]
  },
  {
   "cell_type": "code",
   "execution_count": null,
   "id": "a603a037",
   "metadata": {},
   "outputs": [],
   "source": [
    "# K-Nearest Neighbor (KNN)\n",
    "knn = KNeighborsClassifier(n_neighbors = 3)\n",
    "knn.fit(X_train, y_train)\n",
    "\n",
    "Y_pred = knn.predict(X_test)\n",
    "\n",
    "acc_knn = round(knn.score(X_train, y_train) * 100, 2)\n",
    "print(round(acc_knn,2,), \"%\")"
   ]
  },
  {
   "cell_type": "code",
   "execution_count": null,
   "id": "5c0f56fc",
   "metadata": {},
   "outputs": [],
   "source": [
    "# Support Vector Classifier (SVC)\n",
    "svm_classifier = SVC(kernel='rbf', C=1.0, gamma='scale')\n",
    "svm_classifier.fit(X_train, y_train)\n",
    "y_pred = svm_classifier.predict(X_test)\n",
    "\n",
    "acc_svm = round(svm_classifier.score(X_train, y_train) * 100, 2)\n",
    "print(round(acc_svm,2,), \"%\")\n"
   ]
  },
  {
   "cell_type": "code",
   "execution_count": null,
   "id": "8b5895a6",
   "metadata": {},
   "outputs": [],
   "source": []
  },
  {
   "cell_type": "code",
   "execution_count": null,
   "id": "8327cc77",
   "metadata": {},
   "outputs": [],
   "source": []
  },
  {
   "cell_type": "code",
   "execution_count": null,
   "id": "8181c861",
   "metadata": {},
   "outputs": [],
   "source": []
  },
  {
   "cell_type": "code",
   "execution_count": null,
   "id": "63a577f1",
   "metadata": {},
   "outputs": [],
   "source": []
  },
  {
   "cell_type": "markdown",
   "id": "122f7b01",
   "metadata": {},
   "source": [
    "# COLLECT USER INPUT"
   ]
  },
  {
   "cell_type": "code",
   "execution_count": null,
   "id": "444e9132",
   "metadata": {
    "scrolled": true
   },
   "outputs": [],
   "source": [
    "columns = ['words_per_comment', 'http_per_comment', 'music_per_comment', \n",
    "           'question_per_comment', 'img_per_comment', 'excl_per_comment', \n",
    "           'ellipsis_per_comment']\n",
    "\n",
    "input_values = {}\n",
    "for column in columns:\n",
    "    value = input(f\"Enter value for {column}: \")\n",
    "    input_values[column] = float(value)  # Assuming the values are numeric, adjust data type if needed\n",
    "input_values\n"
   ]
  },
  {
   "cell_type": "markdown",
   "id": "86221382",
   "metadata": {},
   "source": [
    "# MODEL PREDICTION"
   ]
  },
  {
   "cell_type": "code",
   "execution_count": null,
   "id": "b4c077ce",
   "metadata": {},
   "outputs": [],
   "source": [
    "prediction = random_forest.predict([list(input_values.values())])\n",
    "print(\"Predicted Output:\", prediction[0])\n"
   ]
  },
  {
   "cell_type": "code",
   "execution_count": null,
   "id": "2f998a85",
   "metadata": {},
   "outputs": [],
   "source": [
    "\n",
    "with open('trained_model.pkl', 'wb') as file:\n",
    "    pickle.dump(prediction, file)"
   ]
  },
  {
   "cell_type": "code",
   "execution_count": null,
   "id": "5c105c37",
   "metadata": {},
   "outputs": [],
   "source": []
  }
 ],
 "metadata": {
  "kernelspec": {
   "display_name": "Python 3 (ipykernel)",
   "language": "python",
   "name": "python3"
  },
  "language_info": {
   "codemirror_mode": {
    "name": "ipython",
    "version": 3
   },
   "file_extension": ".py",
   "mimetype": "text/x-python",
   "name": "python",
   "nbconvert_exporter": "python",
   "pygments_lexer": "ipython3",
   "version": "3.11.5"
  }
 },
 "nbformat": 4,
 "nbformat_minor": 5
}
